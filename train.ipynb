{
  "cells": [
    {
      "cell_type": "markdown",
      "metadata": {
        "id": "MgmEinG0pJKT"
      },
      "source": [
        "# 1. Baseline"
      ]
    },
    {
      "cell_type": "code",
      "source": [
        "from google.colab import drive\n",
        "drive.mount('/content/drive')"
      ],
      "metadata": {
        "id": "iMWUYNVdNRj0"
      },
      "execution_count": null,
      "outputs": []
    },
    {
      "cell_type": "markdown",
      "metadata": {
        "id": "DLytRGwLpJKV"
      },
      "source": [
        "## Libraries"
      ]
    },
    {
      "cell_type": "code",
      "source": [
        "%cd /content/drive/MyDrive/ColabNotebooks/ArcFace/dataset\n"
      ],
      "metadata": {
        "colab": {
          "base_uri": "https://localhost:8080/"
        },
        "id": "aDBiIHf9L0Ue",
        "outputId": "70a35887-8f42-40f5-fcff-c45e249ac182"
      },
      "execution_count": null,
      "outputs": [
        {
          "output_type": "stream",
          "name": "stdout",
          "text": [
            "/content/drive/MyDrive/ColabNotebooks/ArcFace/dataset\n"
          ]
        }
      ]
    },
    {
      "cell_type": "code",
      "source": [
        "!unzip -q lfw_aligned_112.zip\n",
        "!unzip -q MS1M.zip"
      ],
      "metadata": {
        "id": "ejYkLiq2sZsp"
      },
      "execution_count": null,
      "outputs": []
    },
    {
      "cell_type": "code",
      "source": [
        "%pwd"
      ],
      "metadata": {
        "colab": {
          "base_uri": "https://localhost:8080/",
          "height": 36
        },
        "id": "4kr7sqZAO354",
        "outputId": "b32f8135-8413-4d3c-cfea-4160347beb2b"
      },
      "execution_count": null,
      "outputs": [
        {
          "output_type": "execute_result",
          "data": {
            "text/plain": [
              "'/content/drive/MyDrive/ColabNotebooks/ArcFace/dataset'"
            ],
            "application/vnd.google.colaboratory.intrinsic+json": {
              "type": "string"
            }
          },
          "metadata": {},
          "execution_count": 32
        }
      ]
    },
    {
      "cell_type": "code",
      "execution_count": null,
      "metadata": {
        "id": "Y0vdFNiWpJKW"
      },
      "outputs": [],
      "source": [
        "import os\n",
        "from pathlib import Path\n",
        "from tqdm import tqdm\n",
        "from easydict import EasyDict as edict\n",
        "\n",
        "import torch\n",
        "import torch.nn  as nn\n",
        "import torch.optim as optim\n",
        "import torchvision.utils as vutils\n",
        "from torchvision import transforms as trans\n",
        "\n",
        "from data.ms1m import get_train_loader\n",
        "from data.lfw import LFW\n",
        "\n",
        "from backbone.arcfacenet import SEResNet_IR\n",
        "from margin.ArcMarginProduct import ArcMarginProduct\n",
        "\n",
        "from util.utils import save_checkpoint, test"
      ]
    },
    {
      "cell_type": "markdown",
      "metadata": {
        "id": "ZivgudlnpJKX"
      },
      "source": [
        "## Configuration"
      ]
    },
    {
      "cell_type": "code",
      "execution_count": null,
      "metadata": {
        "id": "sKZhe08kpJKX",
        "colab": {
          "base_uri": "https://localhost:8080/"
        },
        "outputId": "ecc61214-6f0c-4795-b084-b56592644c7f"
      },
      "outputs": [
        {
          "output_type": "stream",
          "name": "stdout",
          "text": [
            "/content/drive/MyDrive/ColabNotebooks/ArcFace/dataset/MS1M\n"
          ]
        }
      ],
      "source": [
        "conf = edict()\n",
        "conf.train_root = '/content/drive/MyDrive/ColabNotebooks/ArcFace/dataset/MS1M'\n",
        "conf.lfw_test_root = '/content/drive/MyDrive/ColabNotebooks/ArcFace/dataset/lfw_aligned_112'\n",
        "conf.lfw_file_list = '/content/drive/MyDrive/ColabNotebooks/ArcFace/dataset/lfw_pair.txt'\n",
        "\n",
        "conf.mode = 'se_ir'  # or 'ir'                        if it's 'ir' we should use 100 or 152 for depth\n",
        "conf.depth = 50 # or '100','152' (layers)\n",
        "conf.margin_type = 'ArcFace'\n",
        "conf.feature_dim = 512  # 512 is generally used\n",
        "conf.scale_siz = 32.0\n",
        "conf.batch_size = 96 # If we do not have enough memory we can set it to 16 or 32\n",
        "conf.lr = 0.01\n",
        "conf.milestones = [8,10,12] # reducing the learning rate in epochs 8, 10 and 12\n",
        "conf.total_epoch = 14\n",
        "\n",
        "conf.save_folder = './saved'\n",
        "conf.save_dir = os.path.join(conf.save_folder,conf.mode + '_' + str(conf.depth)) # ./saved/se_ir_50\n",
        "conf.device = torch.device(\"cuda:0\" if torch.cuda.is_available() else \"cpu\")\n",
        "conf.num_workers = 4 # to laod data into the cpu\n",
        "conf.pin_memory = True  # speed up cpu\n",
        "\n",
        "print(conf.train_root)\n",
        "\n",
        "\n",
        "\n",
        "\n"
      ]
    },
    {
      "cell_type": "code",
      "execution_count": null,
      "metadata": {
        "id": "FsW8nf8opJKX",
        "colab": {
          "base_uri": "https://localhost:8080/"
        },
        "outputId": "6e61089f-2b2e-42e3-8730-9859a7f51e98"
      },
      "outputs": [
        {
          "output_type": "stream",
          "name": "stdout",
          "text": [
            "./saved/se_ir_50\n"
          ]
        }
      ],
      "source": [
        "os.makedirs(conf.save_dir, exist_ok=True)\n"
      ]
    },
    {
      "cell_type": "markdown",
      "metadata": {
        "id": "SSksS_H7pJKY"
      },
      "source": [
        "## Data Loader"
      ]
    },
    {
      "cell_type": "code",
      "source": [
        "%pwd\n",
        "%cd /content/drive/MyDrive/ColabNotebooks/ArcFace/dataset"
      ],
      "metadata": {
        "colab": {
          "base_uri": "https://localhost:8080/"
        },
        "id": "1-n-ZsoUB5zD",
        "outputId": "eb1a78aa-4da7-419c-c10e-16ac50dd7888"
      },
      "execution_count": null,
      "outputs": [
        {
          "output_type": "stream",
          "name": "stdout",
          "text": [
            "/content/drive/MyDrive/ColabNotebooks/ArcFace/dataset\n"
          ]
        }
      ]
    },
    {
      "cell_type": "code",
      "source": [
        "transform = trans.Compose([\n",
        "    trans.ToTensor(),  # range [0,255] --> [0.0,1.0]\n",
        "    trans.Normalize(mean = (0.5, 0.5, 0.5),std = (0.5, 0.5, 0.5))  #make the model more durable for much brightness condition\n",
        "])\n",
        "print(conf)\n",
        "\n",
        "trainloader , class_num = get_train_loader(conf)\n"
      ],
      "metadata": {
        "colab": {
          "base_uri": "https://localhost:8080/"
        },
        "id": "vJ6YIHPW2d_o",
        "outputId": "5b05f80a-8828-42e9-c4a9-da9474c70d69"
      },
      "execution_count": null,
      "outputs": [
        {
          "output_type": "stream",
          "name": "stdout",
          "text": [
            "{'train_root': '/content/drive/MyDrive/ColabNotebooks/ArcFace/dataset/MS1M', 'lfw_test_root': '/content/drive/MyDrive/ColabNotebooks/ArcFace/dataset/lfw_aligned_112', 'lfw_file_list': '/content/drive/MyDrive/ColabNotebooks/ArcFace/dataset/lfw_pair.txt', 'mode': 'se_ir', 'depth': 50, 'margin_type': 'ArcFace', 'feature_dim': 512, 'scale_siz': 32.0, 'batch_size': 96, 'lr': 0.01, 'milestones': [8, 10, 12], 'total_epoch': 14, 'save_folder': './saved', 'save_dir': './saved/se_ir_50', 'device': device(type='cuda', index=0), 'num_workers': 4, 'pin_memory': True}\n"
          ]
        },
        {
          "output_type": "stream",
          "name": "stderr",
          "text": [
            "/usr/local/lib/python3.10/dist-packages/torch/utils/data/dataloader.py:617: UserWarning: This DataLoader will create 4 worker processes in total. Our suggested max number of worker in current system is 2, which is smaller than what this DataLoader is going to create. Please be aware that excessive worker creation might get DataLoader running slow or even freeze, lower the worker number to avoid potential slowness/freeze if necessary.\n",
            "  warnings.warn(\n"
          ]
        }
      ]
    },
    {
      "cell_type": "code",
      "execution_count": null,
      "metadata": {
        "colab": {
          "base_uri": "https://localhost:8080/"
        },
        "id": "Au05f83OpJKY",
        "outputId": "4281e6fb-b833-4e3c-b0ab-98cd4adfd1b2"
      },
      "outputs": [
        {
          "output_type": "stream",
          "name": "stdout",
          "text": [
            "number of class 200\n"
          ]
        }
      ],
      "source": [
        "print('number of class',class_num) # 200 different people"
      ]
    },
    {
      "cell_type": "code",
      "execution_count": null,
      "metadata": {
        "colab": {
          "base_uri": "https://localhost:8080/"
        },
        "id": "uONjCeK0pJKY",
        "outputId": "36348805-19ff-448b-b262-f18923ea378a"
      },
      "outputs": [
        {
          "output_type": "stream",
          "name": "stdout",
          "text": [
            "Dataset ImageFolder\n",
            "    Number of datapoints: 29148\n",
            "    Root location: /content/drive/MyDrive/ColabNotebooks/ArcFace/dataset/MS1M\n",
            "    StandardTransform\n",
            "Transform: Compose(\n",
            "               RandomHorizontalFlip(p=0.5)\n",
            "               ToTensor()\n",
            "               Normalize(mean=[0.5, 0.5, 0.5], std=[0.5, 0.5, 0.5])\n",
            "           )\n"
          ]
        }
      ],
      "source": [
        "print(trainloader.dataset) #totally we have 29148 images"
      ]
    },
    {
      "cell_type": "code",
      "execution_count": null,
      "metadata": {
        "id": "ViwYocc0pJKY"
      },
      "outputs": [],
      "source": [
        "lfwdataset = LFW(conf.lfw_test_root, conf.lfw_file_list,transform = transform) #for test data\n",
        "lfwloader = torch.utils.data.DataLoader(lfwdataset, batch_size = 128, num_workers=conf.num_workers)\n",
        "\n"
      ]
    },
    {
      "cell_type": "markdown",
      "metadata": {
        "id": "wwTkDjN3pJKZ"
      },
      "source": [
        "# Model"
      ]
    },
    {
      "cell_type": "code",
      "execution_count": null,
      "metadata": {
        "id": "vfZvD8QFpJKa",
        "colab": {
          "base_uri": "https://localhost:8080/"
        },
        "outputId": "6422bd6a-2421-4be9-b28f-0e4f9f2d10bc"
      },
      "outputs": [
        {
          "output_type": "stream",
          "name": "stdout",
          "text": [
            "cuda:0\n"
          ]
        }
      ],
      "source": [
        "print(conf.device)"
      ]
    },
    {
      "cell_type": "code",
      "execution_count": null,
      "metadata": {
        "scrolled": true,
        "id": "8r_e3weApJKa"
      },
      "outputs": [],
      "source": [
        "net = SEResNet_IR(conf.depth,feature_dim = conf.feature_dim,mode = conf.mode).to(conf.device)\n",
        "margin = ArcMarginProduct(conf.feature_dim,class_num).to(conf.device)"
      ]
    },
    {
      "cell_type": "code",
      "execution_count": null,
      "metadata": {
        "id": "e9GPcyvXpJKa",
        "colab": {
          "base_uri": "https://localhost:8080/"
        },
        "outputId": "fe229492-a958-4c69-ecd4-cc93848659e3"
      },
      "outputs": [
        {
          "output_type": "stream",
          "name": "stdout",
          "text": [
            "SEResNet_IR(\n",
            "  (input_layer): Sequential(\n",
            "    (0): Conv2d(3, 64, kernel_size=(3, 3), stride=(1, 1), padding=(1, 1), bias=False)\n",
            "    (1): BatchNorm2d(64, eps=1e-05, momentum=0.1, affine=True, track_running_stats=True)\n",
            "    (2): PReLU(num_parameters=64)\n",
            "  )\n",
            "  (output_layer): Sequential(\n",
            "    (0): BatchNorm2d(512, eps=1e-05, momentum=0.1, affine=True, track_running_stats=True)\n",
            "    (1): Dropout(p=0.4, inplace=False)\n",
            "    (2): Flatten()\n",
            "    (3): Linear(in_features=25088, out_features=512, bias=True)\n",
            "    (4): BatchNorm1d(512, eps=1e-05, momentum=0.1, affine=True, track_running_stats=True)\n",
            "  )\n",
            "  (body): Sequential(\n",
            "    (0): BottleNeck_IR_SE(\n",
            "      (shortcut_layer): MaxPool2d(kernel_size=1, stride=2, padding=0, dilation=1, ceil_mode=False)\n",
            "      (res_layer): Sequential(\n",
            "        (0): BatchNorm2d(64, eps=1e-05, momentum=0.1, affine=True, track_running_stats=True)\n",
            "        (1): Conv2d(64, 64, kernel_size=(3, 3), stride=(1, 1), padding=(1, 1), bias=False)\n",
            "        (2): BatchNorm2d(64, eps=1e-05, momentum=0.1, affine=True, track_running_stats=True)\n",
            "        (3): PReLU(num_parameters=64)\n",
            "        (4): Conv2d(64, 64, kernel_size=(3, 3), stride=(2, 2), padding=(1, 1), bias=False)\n",
            "        (5): BatchNorm2d(64, eps=1e-05, momentum=0.1, affine=True, track_running_stats=True)\n",
            "        (6): SEModule(\n",
            "          (avg_pool): AdaptiveAvgPool2d(output_size=1)\n",
            "          (fc1): Conv2d(64, 4, kernel_size=(1, 1), stride=(1, 1), bias=False)\n",
            "          (relu): ReLU(inplace=True)\n",
            "          (fc2): Conv2d(4, 64, kernel_size=(1, 1), stride=(1, 1), bias=False)\n",
            "          (sigmoid): Sigmoid()\n",
            "        )\n",
            "      )\n",
            "    )\n",
            "    (1): BottleNeck_IR_SE(\n",
            "      (shortcut_layer): MaxPool2d(kernel_size=1, stride=1, padding=0, dilation=1, ceil_mode=False)\n",
            "      (res_layer): Sequential(\n",
            "        (0): BatchNorm2d(64, eps=1e-05, momentum=0.1, affine=True, track_running_stats=True)\n",
            "        (1): Conv2d(64, 64, kernel_size=(3, 3), stride=(1, 1), padding=(1, 1), bias=False)\n",
            "        (2): BatchNorm2d(64, eps=1e-05, momentum=0.1, affine=True, track_running_stats=True)\n",
            "        (3): PReLU(num_parameters=64)\n",
            "        (4): Conv2d(64, 64, kernel_size=(3, 3), stride=(1, 1), padding=(1, 1), bias=False)\n",
            "        (5): BatchNorm2d(64, eps=1e-05, momentum=0.1, affine=True, track_running_stats=True)\n",
            "        (6): SEModule(\n",
            "          (avg_pool): AdaptiveAvgPool2d(output_size=1)\n",
            "          (fc1): Conv2d(64, 4, kernel_size=(1, 1), stride=(1, 1), bias=False)\n",
            "          (relu): ReLU(inplace=True)\n",
            "          (fc2): Conv2d(4, 64, kernel_size=(1, 1), stride=(1, 1), bias=False)\n",
            "          (sigmoid): Sigmoid()\n",
            "        )\n",
            "      )\n",
            "    )\n",
            "    (2): BottleNeck_IR_SE(\n",
            "      (shortcut_layer): MaxPool2d(kernel_size=1, stride=1, padding=0, dilation=1, ceil_mode=False)\n",
            "      (res_layer): Sequential(\n",
            "        (0): BatchNorm2d(64, eps=1e-05, momentum=0.1, affine=True, track_running_stats=True)\n",
            "        (1): Conv2d(64, 64, kernel_size=(3, 3), stride=(1, 1), padding=(1, 1), bias=False)\n",
            "        (2): BatchNorm2d(64, eps=1e-05, momentum=0.1, affine=True, track_running_stats=True)\n",
            "        (3): PReLU(num_parameters=64)\n",
            "        (4): Conv2d(64, 64, kernel_size=(3, 3), stride=(1, 1), padding=(1, 1), bias=False)\n",
            "        (5): BatchNorm2d(64, eps=1e-05, momentum=0.1, affine=True, track_running_stats=True)\n",
            "        (6): SEModule(\n",
            "          (avg_pool): AdaptiveAvgPool2d(output_size=1)\n",
            "          (fc1): Conv2d(64, 4, kernel_size=(1, 1), stride=(1, 1), bias=False)\n",
            "          (relu): ReLU(inplace=True)\n",
            "          (fc2): Conv2d(4, 64, kernel_size=(1, 1), stride=(1, 1), bias=False)\n",
            "          (sigmoid): Sigmoid()\n",
            "        )\n",
            "      )\n",
            "    )\n",
            "    (3): BottleNeck_IR_SE(\n",
            "      (shortcut_layer): Sequential(\n",
            "        (0): Conv2d(64, 128, kernel_size=(1, 1), stride=(2, 2), bias=False)\n",
            "        (1): BatchNorm2d(128, eps=1e-05, momentum=0.1, affine=True, track_running_stats=True)\n",
            "      )\n",
            "      (res_layer): Sequential(\n",
            "        (0): BatchNorm2d(64, eps=1e-05, momentum=0.1, affine=True, track_running_stats=True)\n",
            "        (1): Conv2d(64, 128, kernel_size=(3, 3), stride=(1, 1), padding=(1, 1), bias=False)\n",
            "        (2): BatchNorm2d(128, eps=1e-05, momentum=0.1, affine=True, track_running_stats=True)\n",
            "        (3): PReLU(num_parameters=128)\n",
            "        (4): Conv2d(128, 128, kernel_size=(3, 3), stride=(2, 2), padding=(1, 1), bias=False)\n",
            "        (5): BatchNorm2d(128, eps=1e-05, momentum=0.1, affine=True, track_running_stats=True)\n",
            "        (6): SEModule(\n",
            "          (avg_pool): AdaptiveAvgPool2d(output_size=1)\n",
            "          (fc1): Conv2d(128, 8, kernel_size=(1, 1), stride=(1, 1), bias=False)\n",
            "          (relu): ReLU(inplace=True)\n",
            "          (fc2): Conv2d(8, 128, kernel_size=(1, 1), stride=(1, 1), bias=False)\n",
            "          (sigmoid): Sigmoid()\n",
            "        )\n",
            "      )\n",
            "    )\n",
            "    (4): BottleNeck_IR_SE(\n",
            "      (shortcut_layer): MaxPool2d(kernel_size=1, stride=1, padding=0, dilation=1, ceil_mode=False)\n",
            "      (res_layer): Sequential(\n",
            "        (0): BatchNorm2d(128, eps=1e-05, momentum=0.1, affine=True, track_running_stats=True)\n",
            "        (1): Conv2d(128, 128, kernel_size=(3, 3), stride=(1, 1), padding=(1, 1), bias=False)\n",
            "        (2): BatchNorm2d(128, eps=1e-05, momentum=0.1, affine=True, track_running_stats=True)\n",
            "        (3): PReLU(num_parameters=128)\n",
            "        (4): Conv2d(128, 128, kernel_size=(3, 3), stride=(1, 1), padding=(1, 1), bias=False)\n",
            "        (5): BatchNorm2d(128, eps=1e-05, momentum=0.1, affine=True, track_running_stats=True)\n",
            "        (6): SEModule(\n",
            "          (avg_pool): AdaptiveAvgPool2d(output_size=1)\n",
            "          (fc1): Conv2d(128, 8, kernel_size=(1, 1), stride=(1, 1), bias=False)\n",
            "          (relu): ReLU(inplace=True)\n",
            "          (fc2): Conv2d(8, 128, kernel_size=(1, 1), stride=(1, 1), bias=False)\n",
            "          (sigmoid): Sigmoid()\n",
            "        )\n",
            "      )\n",
            "    )\n",
            "    (5): BottleNeck_IR_SE(\n",
            "      (shortcut_layer): MaxPool2d(kernel_size=1, stride=1, padding=0, dilation=1, ceil_mode=False)\n",
            "      (res_layer): Sequential(\n",
            "        (0): BatchNorm2d(128, eps=1e-05, momentum=0.1, affine=True, track_running_stats=True)\n",
            "        (1): Conv2d(128, 128, kernel_size=(3, 3), stride=(1, 1), padding=(1, 1), bias=False)\n",
            "        (2): BatchNorm2d(128, eps=1e-05, momentum=0.1, affine=True, track_running_stats=True)\n",
            "        (3): PReLU(num_parameters=128)\n",
            "        (4): Conv2d(128, 128, kernel_size=(3, 3), stride=(1, 1), padding=(1, 1), bias=False)\n",
            "        (5): BatchNorm2d(128, eps=1e-05, momentum=0.1, affine=True, track_running_stats=True)\n",
            "        (6): SEModule(\n",
            "          (avg_pool): AdaptiveAvgPool2d(output_size=1)\n",
            "          (fc1): Conv2d(128, 8, kernel_size=(1, 1), stride=(1, 1), bias=False)\n",
            "          (relu): ReLU(inplace=True)\n",
            "          (fc2): Conv2d(8, 128, kernel_size=(1, 1), stride=(1, 1), bias=False)\n",
            "          (sigmoid): Sigmoid()\n",
            "        )\n",
            "      )\n",
            "    )\n",
            "    (6): BottleNeck_IR_SE(\n",
            "      (shortcut_layer): MaxPool2d(kernel_size=1, stride=1, padding=0, dilation=1, ceil_mode=False)\n",
            "      (res_layer): Sequential(\n",
            "        (0): BatchNorm2d(128, eps=1e-05, momentum=0.1, affine=True, track_running_stats=True)\n",
            "        (1): Conv2d(128, 128, kernel_size=(3, 3), stride=(1, 1), padding=(1, 1), bias=False)\n",
            "        (2): BatchNorm2d(128, eps=1e-05, momentum=0.1, affine=True, track_running_stats=True)\n",
            "        (3): PReLU(num_parameters=128)\n",
            "        (4): Conv2d(128, 128, kernel_size=(3, 3), stride=(1, 1), padding=(1, 1), bias=False)\n",
            "        (5): BatchNorm2d(128, eps=1e-05, momentum=0.1, affine=True, track_running_stats=True)\n",
            "        (6): SEModule(\n",
            "          (avg_pool): AdaptiveAvgPool2d(output_size=1)\n",
            "          (fc1): Conv2d(128, 8, kernel_size=(1, 1), stride=(1, 1), bias=False)\n",
            "          (relu): ReLU(inplace=True)\n",
            "          (fc2): Conv2d(8, 128, kernel_size=(1, 1), stride=(1, 1), bias=False)\n",
            "          (sigmoid): Sigmoid()\n",
            "        )\n",
            "      )\n",
            "    )\n",
            "    (7): BottleNeck_IR_SE(\n",
            "      (shortcut_layer): Sequential(\n",
            "        (0): Conv2d(128, 256, kernel_size=(1, 1), stride=(2, 2), bias=False)\n",
            "        (1): BatchNorm2d(256, eps=1e-05, momentum=0.1, affine=True, track_running_stats=True)\n",
            "      )\n",
            "      (res_layer): Sequential(\n",
            "        (0): BatchNorm2d(128, eps=1e-05, momentum=0.1, affine=True, track_running_stats=True)\n",
            "        (1): Conv2d(128, 256, kernel_size=(3, 3), stride=(1, 1), padding=(1, 1), bias=False)\n",
            "        (2): BatchNorm2d(256, eps=1e-05, momentum=0.1, affine=True, track_running_stats=True)\n",
            "        (3): PReLU(num_parameters=256)\n",
            "        (4): Conv2d(256, 256, kernel_size=(3, 3), stride=(2, 2), padding=(1, 1), bias=False)\n",
            "        (5): BatchNorm2d(256, eps=1e-05, momentum=0.1, affine=True, track_running_stats=True)\n",
            "        (6): SEModule(\n",
            "          (avg_pool): AdaptiveAvgPool2d(output_size=1)\n",
            "          (fc1): Conv2d(256, 16, kernel_size=(1, 1), stride=(1, 1), bias=False)\n",
            "          (relu): ReLU(inplace=True)\n",
            "          (fc2): Conv2d(16, 256, kernel_size=(1, 1), stride=(1, 1), bias=False)\n",
            "          (sigmoid): Sigmoid()\n",
            "        )\n",
            "      )\n",
            "    )\n",
            "    (8): BottleNeck_IR_SE(\n",
            "      (shortcut_layer): MaxPool2d(kernel_size=1, stride=1, padding=0, dilation=1, ceil_mode=False)\n",
            "      (res_layer): Sequential(\n",
            "        (0): BatchNorm2d(256, eps=1e-05, momentum=0.1, affine=True, track_running_stats=True)\n",
            "        (1): Conv2d(256, 256, kernel_size=(3, 3), stride=(1, 1), padding=(1, 1), bias=False)\n",
            "        (2): BatchNorm2d(256, eps=1e-05, momentum=0.1, affine=True, track_running_stats=True)\n",
            "        (3): PReLU(num_parameters=256)\n",
            "        (4): Conv2d(256, 256, kernel_size=(3, 3), stride=(1, 1), padding=(1, 1), bias=False)\n",
            "        (5): BatchNorm2d(256, eps=1e-05, momentum=0.1, affine=True, track_running_stats=True)\n",
            "        (6): SEModule(\n",
            "          (avg_pool): AdaptiveAvgPool2d(output_size=1)\n",
            "          (fc1): Conv2d(256, 16, kernel_size=(1, 1), stride=(1, 1), bias=False)\n",
            "          (relu): ReLU(inplace=True)\n",
            "          (fc2): Conv2d(16, 256, kernel_size=(1, 1), stride=(1, 1), bias=False)\n",
            "          (sigmoid): Sigmoid()\n",
            "        )\n",
            "      )\n",
            "    )\n",
            "    (9): BottleNeck_IR_SE(\n",
            "      (shortcut_layer): MaxPool2d(kernel_size=1, stride=1, padding=0, dilation=1, ceil_mode=False)\n",
            "      (res_layer): Sequential(\n",
            "        (0): BatchNorm2d(256, eps=1e-05, momentum=0.1, affine=True, track_running_stats=True)\n",
            "        (1): Conv2d(256, 256, kernel_size=(3, 3), stride=(1, 1), padding=(1, 1), bias=False)\n",
            "        (2): BatchNorm2d(256, eps=1e-05, momentum=0.1, affine=True, track_running_stats=True)\n",
            "        (3): PReLU(num_parameters=256)\n",
            "        (4): Conv2d(256, 256, kernel_size=(3, 3), stride=(1, 1), padding=(1, 1), bias=False)\n",
            "        (5): BatchNorm2d(256, eps=1e-05, momentum=0.1, affine=True, track_running_stats=True)\n",
            "        (6): SEModule(\n",
            "          (avg_pool): AdaptiveAvgPool2d(output_size=1)\n",
            "          (fc1): Conv2d(256, 16, kernel_size=(1, 1), stride=(1, 1), bias=False)\n",
            "          (relu): ReLU(inplace=True)\n",
            "          (fc2): Conv2d(16, 256, kernel_size=(1, 1), stride=(1, 1), bias=False)\n",
            "          (sigmoid): Sigmoid()\n",
            "        )\n",
            "      )\n",
            "    )\n",
            "    (10): BottleNeck_IR_SE(\n",
            "      (shortcut_layer): MaxPool2d(kernel_size=1, stride=1, padding=0, dilation=1, ceil_mode=False)\n",
            "      (res_layer): Sequential(\n",
            "        (0): BatchNorm2d(256, eps=1e-05, momentum=0.1, affine=True, track_running_stats=True)\n",
            "        (1): Conv2d(256, 256, kernel_size=(3, 3), stride=(1, 1), padding=(1, 1), bias=False)\n",
            "        (2): BatchNorm2d(256, eps=1e-05, momentum=0.1, affine=True, track_running_stats=True)\n",
            "        (3): PReLU(num_parameters=256)\n",
            "        (4): Conv2d(256, 256, kernel_size=(3, 3), stride=(1, 1), padding=(1, 1), bias=False)\n",
            "        (5): BatchNorm2d(256, eps=1e-05, momentum=0.1, affine=True, track_running_stats=True)\n",
            "        (6): SEModule(\n",
            "          (avg_pool): AdaptiveAvgPool2d(output_size=1)\n",
            "          (fc1): Conv2d(256, 16, kernel_size=(1, 1), stride=(1, 1), bias=False)\n",
            "          (relu): ReLU(inplace=True)\n",
            "          (fc2): Conv2d(16, 256, kernel_size=(1, 1), stride=(1, 1), bias=False)\n",
            "          (sigmoid): Sigmoid()\n",
            "        )\n",
            "      )\n",
            "    )\n",
            "    (11): BottleNeck_IR_SE(\n",
            "      (shortcut_layer): MaxPool2d(kernel_size=1, stride=1, padding=0, dilation=1, ceil_mode=False)\n",
            "      (res_layer): Sequential(\n",
            "        (0): BatchNorm2d(256, eps=1e-05, momentum=0.1, affine=True, track_running_stats=True)\n",
            "        (1): Conv2d(256, 256, kernel_size=(3, 3), stride=(1, 1), padding=(1, 1), bias=False)\n",
            "        (2): BatchNorm2d(256, eps=1e-05, momentum=0.1, affine=True, track_running_stats=True)\n",
            "        (3): PReLU(num_parameters=256)\n",
            "        (4): Conv2d(256, 256, kernel_size=(3, 3), stride=(1, 1), padding=(1, 1), bias=False)\n",
            "        (5): BatchNorm2d(256, eps=1e-05, momentum=0.1, affine=True, track_running_stats=True)\n",
            "        (6): SEModule(\n",
            "          (avg_pool): AdaptiveAvgPool2d(output_size=1)\n",
            "          (fc1): Conv2d(256, 16, kernel_size=(1, 1), stride=(1, 1), bias=False)\n",
            "          (relu): ReLU(inplace=True)\n",
            "          (fc2): Conv2d(16, 256, kernel_size=(1, 1), stride=(1, 1), bias=False)\n",
            "          (sigmoid): Sigmoid()\n",
            "        )\n",
            "      )\n",
            "    )\n",
            "    (12): BottleNeck_IR_SE(\n",
            "      (shortcut_layer): MaxPool2d(kernel_size=1, stride=1, padding=0, dilation=1, ceil_mode=False)\n",
            "      (res_layer): Sequential(\n",
            "        (0): BatchNorm2d(256, eps=1e-05, momentum=0.1, affine=True, track_running_stats=True)\n",
            "        (1): Conv2d(256, 256, kernel_size=(3, 3), stride=(1, 1), padding=(1, 1), bias=False)\n",
            "        (2): BatchNorm2d(256, eps=1e-05, momentum=0.1, affine=True, track_running_stats=True)\n",
            "        (3): PReLU(num_parameters=256)\n",
            "        (4): Conv2d(256, 256, kernel_size=(3, 3), stride=(1, 1), padding=(1, 1), bias=False)\n",
            "        (5): BatchNorm2d(256, eps=1e-05, momentum=0.1, affine=True, track_running_stats=True)\n",
            "        (6): SEModule(\n",
            "          (avg_pool): AdaptiveAvgPool2d(output_size=1)\n",
            "          (fc1): Conv2d(256, 16, kernel_size=(1, 1), stride=(1, 1), bias=False)\n",
            "          (relu): ReLU(inplace=True)\n",
            "          (fc2): Conv2d(16, 256, kernel_size=(1, 1), stride=(1, 1), bias=False)\n",
            "          (sigmoid): Sigmoid()\n",
            "        )\n",
            "      )\n",
            "    )\n",
            "    (13): BottleNeck_IR_SE(\n",
            "      (shortcut_layer): MaxPool2d(kernel_size=1, stride=1, padding=0, dilation=1, ceil_mode=False)\n",
            "      (res_layer): Sequential(\n",
            "        (0): BatchNorm2d(256, eps=1e-05, momentum=0.1, affine=True, track_running_stats=True)\n",
            "        (1): Conv2d(256, 256, kernel_size=(3, 3), stride=(1, 1), padding=(1, 1), bias=False)\n",
            "        (2): BatchNorm2d(256, eps=1e-05, momentum=0.1, affine=True, track_running_stats=True)\n",
            "        (3): PReLU(num_parameters=256)\n",
            "        (4): Conv2d(256, 256, kernel_size=(3, 3), stride=(1, 1), padding=(1, 1), bias=False)\n",
            "        (5): BatchNorm2d(256, eps=1e-05, momentum=0.1, affine=True, track_running_stats=True)\n",
            "        (6): SEModule(\n",
            "          (avg_pool): AdaptiveAvgPool2d(output_size=1)\n",
            "          (fc1): Conv2d(256, 16, kernel_size=(1, 1), stride=(1, 1), bias=False)\n",
            "          (relu): ReLU(inplace=True)\n",
            "          (fc2): Conv2d(16, 256, kernel_size=(1, 1), stride=(1, 1), bias=False)\n",
            "          (sigmoid): Sigmoid()\n",
            "        )\n",
            "      )\n",
            "    )\n",
            "    (14): BottleNeck_IR_SE(\n",
            "      (shortcut_layer): MaxPool2d(kernel_size=1, stride=1, padding=0, dilation=1, ceil_mode=False)\n",
            "      (res_layer): Sequential(\n",
            "        (0): BatchNorm2d(256, eps=1e-05, momentum=0.1, affine=True, track_running_stats=True)\n",
            "        (1): Conv2d(256, 256, kernel_size=(3, 3), stride=(1, 1), padding=(1, 1), bias=False)\n",
            "        (2): BatchNorm2d(256, eps=1e-05, momentum=0.1, affine=True, track_running_stats=True)\n",
            "        (3): PReLU(num_parameters=256)\n",
            "        (4): Conv2d(256, 256, kernel_size=(3, 3), stride=(1, 1), padding=(1, 1), bias=False)\n",
            "        (5): BatchNorm2d(256, eps=1e-05, momentum=0.1, affine=True, track_running_stats=True)\n",
            "        (6): SEModule(\n",
            "          (avg_pool): AdaptiveAvgPool2d(output_size=1)\n",
            "          (fc1): Conv2d(256, 16, kernel_size=(1, 1), stride=(1, 1), bias=False)\n",
            "          (relu): ReLU(inplace=True)\n",
            "          (fc2): Conv2d(16, 256, kernel_size=(1, 1), stride=(1, 1), bias=False)\n",
            "          (sigmoid): Sigmoid()\n",
            "        )\n",
            "      )\n",
            "    )\n",
            "    (15): BottleNeck_IR_SE(\n",
            "      (shortcut_layer): MaxPool2d(kernel_size=1, stride=1, padding=0, dilation=1, ceil_mode=False)\n",
            "      (res_layer): Sequential(\n",
            "        (0): BatchNorm2d(256, eps=1e-05, momentum=0.1, affine=True, track_running_stats=True)\n",
            "        (1): Conv2d(256, 256, kernel_size=(3, 3), stride=(1, 1), padding=(1, 1), bias=False)\n",
            "        (2): BatchNorm2d(256, eps=1e-05, momentum=0.1, affine=True, track_running_stats=True)\n",
            "        (3): PReLU(num_parameters=256)\n",
            "        (4): Conv2d(256, 256, kernel_size=(3, 3), stride=(1, 1), padding=(1, 1), bias=False)\n",
            "        (5): BatchNorm2d(256, eps=1e-05, momentum=0.1, affine=True, track_running_stats=True)\n",
            "        (6): SEModule(\n",
            "          (avg_pool): AdaptiveAvgPool2d(output_size=1)\n",
            "          (fc1): Conv2d(256, 16, kernel_size=(1, 1), stride=(1, 1), bias=False)\n",
            "          (relu): ReLU(inplace=True)\n",
            "          (fc2): Conv2d(16, 256, kernel_size=(1, 1), stride=(1, 1), bias=False)\n",
            "          (sigmoid): Sigmoid()\n",
            "        )\n",
            "      )\n",
            "    )\n",
            "    (16): BottleNeck_IR_SE(\n",
            "      (shortcut_layer): MaxPool2d(kernel_size=1, stride=1, padding=0, dilation=1, ceil_mode=False)\n",
            "      (res_layer): Sequential(\n",
            "        (0): BatchNorm2d(256, eps=1e-05, momentum=0.1, affine=True, track_running_stats=True)\n",
            "        (1): Conv2d(256, 256, kernel_size=(3, 3), stride=(1, 1), padding=(1, 1), bias=False)\n",
            "        (2): BatchNorm2d(256, eps=1e-05, momentum=0.1, affine=True, track_running_stats=True)\n",
            "        (3): PReLU(num_parameters=256)\n",
            "        (4): Conv2d(256, 256, kernel_size=(3, 3), stride=(1, 1), padding=(1, 1), bias=False)\n",
            "        (5): BatchNorm2d(256, eps=1e-05, momentum=0.1, affine=True, track_running_stats=True)\n",
            "        (6): SEModule(\n",
            "          (avg_pool): AdaptiveAvgPool2d(output_size=1)\n",
            "          (fc1): Conv2d(256, 16, kernel_size=(1, 1), stride=(1, 1), bias=False)\n",
            "          (relu): ReLU(inplace=True)\n",
            "          (fc2): Conv2d(16, 256, kernel_size=(1, 1), stride=(1, 1), bias=False)\n",
            "          (sigmoid): Sigmoid()\n",
            "        )\n",
            "      )\n",
            "    )\n",
            "    (17): BottleNeck_IR_SE(\n",
            "      (shortcut_layer): MaxPool2d(kernel_size=1, stride=1, padding=0, dilation=1, ceil_mode=False)\n",
            "      (res_layer): Sequential(\n",
            "        (0): BatchNorm2d(256, eps=1e-05, momentum=0.1, affine=True, track_running_stats=True)\n",
            "        (1): Conv2d(256, 256, kernel_size=(3, 3), stride=(1, 1), padding=(1, 1), bias=False)\n",
            "        (2): BatchNorm2d(256, eps=1e-05, momentum=0.1, affine=True, track_running_stats=True)\n",
            "        (3): PReLU(num_parameters=256)\n",
            "        (4): Conv2d(256, 256, kernel_size=(3, 3), stride=(1, 1), padding=(1, 1), bias=False)\n",
            "        (5): BatchNorm2d(256, eps=1e-05, momentum=0.1, affine=True, track_running_stats=True)\n",
            "        (6): SEModule(\n",
            "          (avg_pool): AdaptiveAvgPool2d(output_size=1)\n",
            "          (fc1): Conv2d(256, 16, kernel_size=(1, 1), stride=(1, 1), bias=False)\n",
            "          (relu): ReLU(inplace=True)\n",
            "          (fc2): Conv2d(16, 256, kernel_size=(1, 1), stride=(1, 1), bias=False)\n",
            "          (sigmoid): Sigmoid()\n",
            "        )\n",
            "      )\n",
            "    )\n",
            "    (18): BottleNeck_IR_SE(\n",
            "      (shortcut_layer): MaxPool2d(kernel_size=1, stride=1, padding=0, dilation=1, ceil_mode=False)\n",
            "      (res_layer): Sequential(\n",
            "        (0): BatchNorm2d(256, eps=1e-05, momentum=0.1, affine=True, track_running_stats=True)\n",
            "        (1): Conv2d(256, 256, kernel_size=(3, 3), stride=(1, 1), padding=(1, 1), bias=False)\n",
            "        (2): BatchNorm2d(256, eps=1e-05, momentum=0.1, affine=True, track_running_stats=True)\n",
            "        (3): PReLU(num_parameters=256)\n",
            "        (4): Conv2d(256, 256, kernel_size=(3, 3), stride=(1, 1), padding=(1, 1), bias=False)\n",
            "        (5): BatchNorm2d(256, eps=1e-05, momentum=0.1, affine=True, track_running_stats=True)\n",
            "        (6): SEModule(\n",
            "          (avg_pool): AdaptiveAvgPool2d(output_size=1)\n",
            "          (fc1): Conv2d(256, 16, kernel_size=(1, 1), stride=(1, 1), bias=False)\n",
            "          (relu): ReLU(inplace=True)\n",
            "          (fc2): Conv2d(16, 256, kernel_size=(1, 1), stride=(1, 1), bias=False)\n",
            "          (sigmoid): Sigmoid()\n",
            "        )\n",
            "      )\n",
            "    )\n",
            "    (19): BottleNeck_IR_SE(\n",
            "      (shortcut_layer): MaxPool2d(kernel_size=1, stride=1, padding=0, dilation=1, ceil_mode=False)\n",
            "      (res_layer): Sequential(\n",
            "        (0): BatchNorm2d(256, eps=1e-05, momentum=0.1, affine=True, track_running_stats=True)\n",
            "        (1): Conv2d(256, 256, kernel_size=(3, 3), stride=(1, 1), padding=(1, 1), bias=False)\n",
            "        (2): BatchNorm2d(256, eps=1e-05, momentum=0.1, affine=True, track_running_stats=True)\n",
            "        (3): PReLU(num_parameters=256)\n",
            "        (4): Conv2d(256, 256, kernel_size=(3, 3), stride=(1, 1), padding=(1, 1), bias=False)\n",
            "        (5): BatchNorm2d(256, eps=1e-05, momentum=0.1, affine=True, track_running_stats=True)\n",
            "        (6): SEModule(\n",
            "          (avg_pool): AdaptiveAvgPool2d(output_size=1)\n",
            "          (fc1): Conv2d(256, 16, kernel_size=(1, 1), stride=(1, 1), bias=False)\n",
            "          (relu): ReLU(inplace=True)\n",
            "          (fc2): Conv2d(16, 256, kernel_size=(1, 1), stride=(1, 1), bias=False)\n",
            "          (sigmoid): Sigmoid()\n",
            "        )\n",
            "      )\n",
            "    )\n",
            "    (20): BottleNeck_IR_SE(\n",
            "      (shortcut_layer): MaxPool2d(kernel_size=1, stride=1, padding=0, dilation=1, ceil_mode=False)\n",
            "      (res_layer): Sequential(\n",
            "        (0): BatchNorm2d(256, eps=1e-05, momentum=0.1, affine=True, track_running_stats=True)\n",
            "        (1): Conv2d(256, 256, kernel_size=(3, 3), stride=(1, 1), padding=(1, 1), bias=False)\n",
            "        (2): BatchNorm2d(256, eps=1e-05, momentum=0.1, affine=True, track_running_stats=True)\n",
            "        (3): PReLU(num_parameters=256)\n",
            "        (4): Conv2d(256, 256, kernel_size=(3, 3), stride=(1, 1), padding=(1, 1), bias=False)\n",
            "        (5): BatchNorm2d(256, eps=1e-05, momentum=0.1, affine=True, track_running_stats=True)\n",
            "        (6): SEModule(\n",
            "          (avg_pool): AdaptiveAvgPool2d(output_size=1)\n",
            "          (fc1): Conv2d(256, 16, kernel_size=(1, 1), stride=(1, 1), bias=False)\n",
            "          (relu): ReLU(inplace=True)\n",
            "          (fc2): Conv2d(16, 256, kernel_size=(1, 1), stride=(1, 1), bias=False)\n",
            "          (sigmoid): Sigmoid()\n",
            "        )\n",
            "      )\n",
            "    )\n",
            "    (21): BottleNeck_IR_SE(\n",
            "      (shortcut_layer): Sequential(\n",
            "        (0): Conv2d(256, 512, kernel_size=(1, 1), stride=(2, 2), bias=False)\n",
            "        (1): BatchNorm2d(512, eps=1e-05, momentum=0.1, affine=True, track_running_stats=True)\n",
            "      )\n",
            "      (res_layer): Sequential(\n",
            "        (0): BatchNorm2d(256, eps=1e-05, momentum=0.1, affine=True, track_running_stats=True)\n",
            "        (1): Conv2d(256, 512, kernel_size=(3, 3), stride=(1, 1), padding=(1, 1), bias=False)\n",
            "        (2): BatchNorm2d(512, eps=1e-05, momentum=0.1, affine=True, track_running_stats=True)\n",
            "        (3): PReLU(num_parameters=512)\n",
            "        (4): Conv2d(512, 512, kernel_size=(3, 3), stride=(2, 2), padding=(1, 1), bias=False)\n",
            "        (5): BatchNorm2d(512, eps=1e-05, momentum=0.1, affine=True, track_running_stats=True)\n",
            "        (6): SEModule(\n",
            "          (avg_pool): AdaptiveAvgPool2d(output_size=1)\n",
            "          (fc1): Conv2d(512, 32, kernel_size=(1, 1), stride=(1, 1), bias=False)\n",
            "          (relu): ReLU(inplace=True)\n",
            "          (fc2): Conv2d(32, 512, kernel_size=(1, 1), stride=(1, 1), bias=False)\n",
            "          (sigmoid): Sigmoid()\n",
            "        )\n",
            "      )\n",
            "    )\n",
            "    (22): BottleNeck_IR_SE(\n",
            "      (shortcut_layer): MaxPool2d(kernel_size=1, stride=1, padding=0, dilation=1, ceil_mode=False)\n",
            "      (res_layer): Sequential(\n",
            "        (0): BatchNorm2d(512, eps=1e-05, momentum=0.1, affine=True, track_running_stats=True)\n",
            "        (1): Conv2d(512, 512, kernel_size=(3, 3), stride=(1, 1), padding=(1, 1), bias=False)\n",
            "        (2): BatchNorm2d(512, eps=1e-05, momentum=0.1, affine=True, track_running_stats=True)\n",
            "        (3): PReLU(num_parameters=512)\n",
            "        (4): Conv2d(512, 512, kernel_size=(3, 3), stride=(1, 1), padding=(1, 1), bias=False)\n",
            "        (5): BatchNorm2d(512, eps=1e-05, momentum=0.1, affine=True, track_running_stats=True)\n",
            "        (6): SEModule(\n",
            "          (avg_pool): AdaptiveAvgPool2d(output_size=1)\n",
            "          (fc1): Conv2d(512, 32, kernel_size=(1, 1), stride=(1, 1), bias=False)\n",
            "          (relu): ReLU(inplace=True)\n",
            "          (fc2): Conv2d(32, 512, kernel_size=(1, 1), stride=(1, 1), bias=False)\n",
            "          (sigmoid): Sigmoid()\n",
            "        )\n",
            "      )\n",
            "    )\n",
            "    (23): BottleNeck_IR_SE(\n",
            "      (shortcut_layer): MaxPool2d(kernel_size=1, stride=1, padding=0, dilation=1, ceil_mode=False)\n",
            "      (res_layer): Sequential(\n",
            "        (0): BatchNorm2d(512, eps=1e-05, momentum=0.1, affine=True, track_running_stats=True)\n",
            "        (1): Conv2d(512, 512, kernel_size=(3, 3), stride=(1, 1), padding=(1, 1), bias=False)\n",
            "        (2): BatchNorm2d(512, eps=1e-05, momentum=0.1, affine=True, track_running_stats=True)\n",
            "        (3): PReLU(num_parameters=512)\n",
            "        (4): Conv2d(512, 512, kernel_size=(3, 3), stride=(1, 1), padding=(1, 1), bias=False)\n",
            "        (5): BatchNorm2d(512, eps=1e-05, momentum=0.1, affine=True, track_running_stats=True)\n",
            "        (6): SEModule(\n",
            "          (avg_pool): AdaptiveAvgPool2d(output_size=1)\n",
            "          (fc1): Conv2d(512, 32, kernel_size=(1, 1), stride=(1, 1), bias=False)\n",
            "          (relu): ReLU(inplace=True)\n",
            "          (fc2): Conv2d(32, 512, kernel_size=(1, 1), stride=(1, 1), bias=False)\n",
            "          (sigmoid): Sigmoid()\n",
            "        )\n",
            "      )\n",
            "    )\n",
            "  )\n",
            ")\n"
          ]
        }
      ],
      "source": [
        "print(net)"
      ]
    },
    {
      "cell_type": "code",
      "source": [
        "criterion = nn.CrossEntropyLoss()\n",
        "#optimizer = optim.SGD(net.parameters(),lr = conf.lr,momentum = 0.9,weight_decay = 5e-4)\n",
        "optimizer = optim.SGD([\n",
        "    {'params' : net.parameters(), 'weight_decay' : 5e-4},\n",
        "    {'params' : margin.parameters(),'weight_decay' : 5e-4}\n",
        "], lr=conf.lr, momentum=0.9,nesterov=True)\n"
      ],
      "metadata": {
        "id": "2Xxn_T-FUksf"
      },
      "execution_count": null,
      "outputs": []
    },
    {
      "cell_type": "code",
      "source": [
        "print(optimizer)"
      ],
      "metadata": {
        "colab": {
          "base_uri": "https://localhost:8080/"
        },
        "id": "zU88fQzFXyad",
        "outputId": "92762d20-3f56-423d-c26e-d2adec5c02c2"
      },
      "execution_count": null,
      "outputs": [
        {
          "output_type": "stream",
          "name": "stdout",
          "text": [
            "SGD (\n",
            "Parameter Group 0\n",
            "    dampening: 0\n",
            "    differentiable: False\n",
            "    foreach: None\n",
            "    fused: None\n",
            "    lr: 0.01\n",
            "    maximize: False\n",
            "    momentum: 0.9\n",
            "    nesterov: True\n",
            "    weight_decay: 0.0005\n",
            "\n",
            "Parameter Group 1\n",
            "    dampening: 0\n",
            "    differentiable: False\n",
            "    foreach: None\n",
            "    fused: None\n",
            "    lr: 0.01\n",
            "    maximize: False\n",
            "    momentum: 0.9\n",
            "    nesterov: True\n",
            "    weight_decay: 0.0005\n",
            ")\n"
          ]
        }
      ]
    },
    {
      "cell_type": "code",
      "source": [
        "def schedule_lr():\n",
        "  for params in optimizer.param_groups:\n",
        "    params['lr'] /= 10\n",
        "  print(optimizer)\n"
      ],
      "metadata": {
        "id": "R0tebl81YDRZ"
      },
      "execution_count": null,
      "outputs": []
    },
    {
      "cell_type": "markdown",
      "metadata": {
        "id": "lbWnD_swpJKa"
      },
      "source": [
        "## Train"
      ]
    },
    {
      "cell_type": "code",
      "source": [
        "%cd .."
      ],
      "metadata": {
        "colab": {
          "base_uri": "https://localhost:8080/"
        },
        "id": "jZ3dq4ADjSz_",
        "outputId": "79d37589-6468-4326-cc42-4e6d07453025"
      },
      "execution_count": null,
      "outputs": [
        {
          "output_type": "stream",
          "name": "stdout",
          "text": [
            "/content/drive/MyDrive/ColabNotebooks/ArcFace\n"
          ]
        }
      ]
    },
    {
      "cell_type": "code",
      "execution_count": null,
      "metadata": {
        "id": "0J_xx-zHpJKa",
        "colab": {
          "base_uri": "https://localhost:8080/"
        },
        "outputId": "4718da12-542b-47c9-8a91-384c637329af"
      },
      "outputs": [
        {
          "metadata": {
            "tags": null
          },
          "name": "stdout",
          "output_type": "stream",
          "text": [
            "Using : cuda:0\n",
            "epoch 1/14\n"
          ]
        },
        {
          "metadata": {
            "tags": null
          },
          "name": "stderr",
          "output_type": "stream",
          "text": [
            "  0%|          | 0/304 [00:00<?, ?it/s]/usr/local/lib/python3.10/dist-packages/torch/utils/data/dataloader.py:617: UserWarning: This DataLoader will create 4 worker processes in total. Our suggested max number of worker in current system is 2, which is smaller than what this DataLoader is going to create. Please be aware that excessive worker creation might get DataLoader running slow or even freeze, lower the worker number to avoid potential slowness/freeze if necessary.\n",
            "  warnings.warn(\n",
            "100%|██████████| 304/304 [04:32<00:00,  1.12it/s]\n"
          ]
        },
        {
          "metadata": {
            "tags": null
          },
          "name": "stdout",
          "output_type": "stream",
          "text": [
            "\n",
            "LFW: 0.6752  | train_loss: 20.8867\n",
            "\n",
            "best model saved\n",
            "\n",
            "epoch 2/14\n"
          ]
        },
        {
          "metadata": {
            "tags": null
          },
          "name": "stderr",
          "output_type": "stream",
          "text": [
            "100%|██████████| 304/304 [04:31<00:00,  1.12it/s]\n"
          ]
        },
        {
          "metadata": {
            "tags": null
          },
          "name": "stdout",
          "output_type": "stream",
          "text": [
            "\n",
            "LFW: 0.6855  | train_loss: 20.2237\n",
            "\n",
            "best model saved\n",
            "\n",
            "epoch 3/14\n"
          ]
        },
        {
          "metadata": {
            "tags": null
          },
          "name": "stderr",
          "output_type": "stream",
          "text": [
            "100%|██████████| 304/304 [04:31<00:00,  1.12it/s]\n"
          ]
        },
        {
          "metadata": {
            "tags": null
          },
          "name": "stdout",
          "output_type": "stream",
          "text": [
            "\n",
            "LFW: 0.6995  | train_loss: 19.5757\n",
            "\n",
            "best model saved\n",
            "\n",
            "epoch 4/14\n"
          ]
        },
        {
          "metadata": {
            "tags": null
          },
          "name": "stderr",
          "output_type": "stream",
          "text": [
            "100%|██████████| 304/304 [04:31<00:00,  1.12it/s]\n"
          ]
        },
        {
          "metadata": {
            "tags": null
          },
          "name": "stdout",
          "output_type": "stream",
          "text": [
            "\n",
            "LFW: 0.7095  | train_loss: 19.0973\n",
            "\n",
            "best model saved\n",
            "\n",
            "epoch 5/14\n"
          ]
        },
        {
          "metadata": {
            "tags": null
          },
          "name": "stderr",
          "output_type": "stream",
          "text": [
            "100%|██████████| 304/304 [04:31<00:00,  1.12it/s]\n"
          ]
        },
        {
          "metadata": {
            "tags": null
          },
          "name": "stdout",
          "output_type": "stream",
          "text": [
            "\n",
            "LFW: 0.7215  | train_loss: 18.9208\n",
            "\n",
            "best model saved\n",
            "\n",
            "epoch 6/14\n"
          ]
        },
        {
          "metadata": {
            "tags": null
          },
          "name": "stderr",
          "output_type": "stream",
          "text": [
            "100%|██████████| 304/304 [04:34<00:00,  1.11it/s]\n"
          ]
        },
        {
          "metadata": {
            "tags": null
          },
          "name": "stdout",
          "output_type": "stream",
          "text": [
            "\n",
            "LFW: 0.7322  | train_loss: 18.8750\n",
            "\n",
            "best model saved\n",
            "\n",
            "epoch 7/14\n"
          ]
        },
        {
          "metadata": {
            "tags": null
          },
          "name": "stderr",
          "output_type": "stream",
          "text": [
            "100%|██████████| 304/304 [04:31<00:00,  1.12it/s]\n"
          ]
        },
        {
          "metadata": {
            "tags": null
          },
          "name": "stdout",
          "output_type": "stream",
          "text": [
            "\n",
            "LFW: 0.7333  | train_loss: 18.2739\n",
            "\n",
            "best model saved\n",
            "\n",
            "epoch 8/14\n",
            "SGD (\n",
            "Parameter Group 0\n",
            "    dampening: 0\n",
            "    differentiable: False\n",
            "    foreach: None\n",
            "    fused: None\n",
            "    lr: 1.0000000000000002e-06\n",
            "    maximize: False\n",
            "    momentum: 0.9\n",
            "    nesterov: True\n",
            "    weight_decay: 0.0005\n",
            "\n",
            "Parameter Group 1\n",
            "    dampening: 0\n",
            "    differentiable: False\n",
            "    foreach: None\n",
            "    fused: None\n",
            "    lr: 1.0000000000000002e-06\n",
            "    maximize: False\n",
            "    momentum: 0.9\n",
            "    nesterov: True\n",
            "    weight_decay: 0.0005\n",
            ")\n"
          ]
        },
        {
          "metadata": {
            "tags": null
          },
          "name": "stderr",
          "output_type": "stream",
          "text": [
            "100%|██████████| 304/304 [04:31<00:00,  1.12it/s]\n"
          ]
        },
        {
          "metadata": {
            "tags": null
          },
          "name": "stdout",
          "output_type": "stream",
          "text": [
            "\n",
            "LFW: 0.7335  | train_loss: 18.3600\n",
            "\n",
            "best model saved\n",
            "\n",
            "epoch 9/14\n"
          ]
        },
        {
          "metadata": {
            "tags": null
          },
          "name": "stderr",
          "output_type": "stream",
          "text": [
            "100%|██████████| 304/304 [04:32<00:00,  1.12it/s]\n"
          ]
        },
        {
          "metadata": {
            "tags": null
          },
          "name": "stdout",
          "output_type": "stream",
          "text": [
            "\n",
            "LFW: 0.7340  | train_loss: 18.0994\n",
            "\n",
            "best model saved\n",
            "\n",
            "epoch 10/14\n",
            "SGD (\n",
            "Parameter Group 0\n",
            "    dampening: 0\n",
            "    differentiable: False\n",
            "    foreach: None\n",
            "    fused: None\n",
            "    lr: 1.0000000000000002e-07\n",
            "    maximize: False\n",
            "    momentum: 0.9\n",
            "    nesterov: True\n",
            "    weight_decay: 0.0005\n",
            "\n",
            "Parameter Group 1\n",
            "    dampening: 0\n",
            "    differentiable: False\n",
            "    foreach: None\n",
            "    fused: None\n",
            "    lr: 1.0000000000000002e-07\n",
            "    maximize: False\n",
            "    momentum: 0.9\n",
            "    nesterov: True\n",
            "    weight_decay: 0.0005\n",
            ")\n"
          ]
        },
        {
          "output_type": "stream",
          "name": "stderr",
          "text": [
            "100%|██████████| 304/304 [04:31<00:00,  1.12it/s]\n"
          ]
        }
      ],
      "source": [
        "best_acc = 0\n",
        "print('Using :',conf.device)\n",
        "for epoch in range(1,conf.total_epoch+1):\n",
        "\n",
        "  net.train()\n",
        "  print('epoch {}/{}'.format(epoch,conf.total_epoch),flush = True)\n",
        "\n",
        "  if epoch == conf.milestones[0]: #8\n",
        "    schedule_lr()\n",
        "  elif epoch == conf.milestones[1]: #10\n",
        "    schedule_lr()\n",
        "  elif epoch == conf.milestones[2]: #12\n",
        "    schedule_lr()\n",
        "\n",
        "  for data in tqdm(trainloader):   #we use tqdm for visualize      & one iteration\n",
        "    img,label = data[0].to(conf.device),data[1].to(conf.device)\n",
        "    optimizer.zero_grad()\n",
        "\n",
        "    logits = net(img)\n",
        "    output = margin(logits,label)\n",
        "    total_loss = criterion(output,label)\n",
        "    total_loss.backward()\n",
        "    optimizer.step()\n",
        "\n",
        "\n",
        "\n",
        "    #test\n",
        "\n",
        "  net.eval()\n",
        "\n",
        "  lfw_acc = test(conf, net, lfwdataset, lfwloader)\n",
        "\n",
        "  print('\\nLFW: {:.4f}  | train_loss: {:.4f}\\n'.format(lfw_acc, total_loss.item()))\n",
        "\n",
        "  is_best = lfw_acc > best_acc\n",
        "  best_acc = max(lfw_acc,best_acc)\n",
        "\n",
        "  save_checkpoint({\n",
        "      'epoch':epoch,\n",
        "      'net_state_dict':net.state_dict(),\n",
        "      'margin_state_dict':margin.state_dict(),\n",
        "      'best_acc':best_acc,\n",
        "   },is_best,checkpoint = conf.save_dir)\n",
        "\n",
        "\n",
        "\n",
        "    #saving model\n"
      ]
    },
    {
      "cell_type": "code",
      "source": [
        "'''\n",
        "SOTA: State of the art\n",
        "\n",
        "1. Downloading the full dataset of MS1M and LFW\n",
        "2. conf.mode = 'ir'\n",
        "3. conf.depth = 100\n",
        "4. conf.total_epoch = 20\n",
        "5. conf.milestones = [12,16,18]\n",
        "\n",
        "lfw = 99.83%\n",
        "\n",
        "2 v100 (32gb) --> 5 days for training\n",
        "\n",
        "\n",
        "If you want to use this weight on your device ,camera or something like that check out MobileFaceNet\n",
        "'''"
      ],
      "metadata": {
        "id": "uSMB6ZtSvAb3"
      },
      "execution_count": null,
      "outputs": []
    }
  ],
  "metadata": {
    "kernelspec": {
      "display_name": "Python 3",
      "name": "python3"
    },
    "language_info": {
      "codemirror_mode": {
        "name": "ipython",
        "version": 3
      },
      "file_extension": ".py",
      "mimetype": "text/x-python",
      "name": "python",
      "nbconvert_exporter": "python",
      "pygments_lexer": "ipython3",
      "version": "3.6.9"
    },
    "colab": {
      "provenance": [],
      "gpuType": "T4"
    },
    "accelerator": "GPU"
  },
  "nbformat": 4,
  "nbformat_minor": 0
}